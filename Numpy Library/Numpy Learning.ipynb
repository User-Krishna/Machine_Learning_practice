{
 "cells": [
  {
   "cell_type": "markdown",
   "id": "727366ce-885f-4b61-af8c-64514a8adeda",
   "metadata": {},
   "source": [
    "# #creating numpy/n-d arrays"
   ]
  },
  {
   "cell_type": "code",
   "execution_count": 1,
   "id": "70eaac84-42a1-47f4-9fe0-7a3a637cc4b6",
   "metadata": {},
   "outputs": [],
   "source": [
    "import numpy as np"
   ]
  },
  {
   "cell_type": "markdown",
   "id": "9b2d1ff6-52c8-49f4-af2d-75c3219308f5",
   "metadata": {},
   "source": [
    "# 1.using np.array//1-D and 2-D"
   ]
  },
  {
   "cell_type": "code",
   "execution_count": 75,
   "id": "2953c364-e414-487a-85f3-fa37380a4540",
   "metadata": {},
   "outputs": [],
   "source": [
    "array1=np.array([1,2,3,4])"
   ]
  },
  {
   "cell_type": "code",
   "execution_count": 76,
   "id": "03604234-48a4-4bfe-98d4-c27dacf20f3e",
   "metadata": {},
   "outputs": [
    {
     "data": {
      "text/plain": [
       "array([1, 2, 3, 4])"
      ]
     },
     "execution_count": 76,
     "metadata": {},
     "output_type": "execute_result"
    }
   ],
   "source": [
    "array1"
   ]
  },
  {
   "cell_type": "code",
   "execution_count": 77,
   "id": "d319e4a6-552f-421e-95d8-59fe957a5380",
   "metadata": {},
   "outputs": [
    {
     "data": {
      "text/plain": [
       "numpy.ndarray"
      ]
     },
     "execution_count": 77,
     "metadata": {},
     "output_type": "execute_result"
    }
   ],
   "source": [
    "type(array1)"
   ]
  },
  {
   "cell_type": "code",
   "execution_count": 78,
   "id": "01709e60-8dcc-4cd8-9ad5-2dd6198da6fd",
   "metadata": {},
   "outputs": [],
   "source": [
    "array2=np.array([[3,2,5,6],[2,9,3,7]])"
   ]
  },
  {
   "cell_type": "code",
   "execution_count": 79,
   "id": "9316c609-950f-45ee-b24e-582005e71eb3",
   "metadata": {},
   "outputs": [
    {
     "data": {
      "text/plain": [
       "array([[3, 2, 5, 6],\n",
       "       [2, 9, 3, 7]])"
      ]
     },
     "execution_count": 79,
     "metadata": {},
     "output_type": "execute_result"
    }
   ],
   "source": [
    "array2"
   ]
  },
  {
   "cell_type": "code",
   "execution_count": 80,
   "id": "17067c4c-d536-409f-b306-c1ed7cd7061b",
   "metadata": {},
   "outputs": [
    {
     "data": {
      "text/plain": [
       "numpy.ndarray"
      ]
     },
     "execution_count": 80,
     "metadata": {},
     "output_type": "execute_result"
    }
   ],
   "source": [
    "type(array2)"
   ]
  },
  {
   "cell_type": "markdown",
   "id": "ca5b257d-c48b-4db1-a4fd-8d3973c5603e",
   "metadata": {},
   "source": [
    "# 2.using zeros/ones/empty/random"
   ]
  },
  {
   "cell_type": "code",
   "execution_count": 81,
   "id": "fc8e8db7-c082-4050-9cec-2d2539db2383",
   "metadata": {},
   "outputs": [],
   "source": [
    "arr3=np.zeros((2,3)) #two rows and three columns"
   ]
  },
  {
   "cell_type": "code",
   "execution_count": 82,
   "id": "e04557ae-29a6-401d-acec-994784b8bdf7",
   "metadata": {},
   "outputs": [
    {
     "data": {
      "text/plain": [
       "array([[0., 0., 0.],\n",
       "       [0., 0., 0.]])"
      ]
     },
     "execution_count": 82,
     "metadata": {},
     "output_type": "execute_result"
    }
   ],
   "source": [
    "arr3"
   ]
  },
  {
   "cell_type": "code",
   "execution_count": 83,
   "id": "f9026911-1fe4-4c8f-81f9-f0833e35a3cb",
   "metadata": {},
   "outputs": [],
   "source": [
    "arr4=np.ones((2,3))"
   ]
  },
  {
   "cell_type": "code",
   "execution_count": 84,
   "id": "7cad9af1-7b86-42a9-8a9d-2e0433badb9b",
   "metadata": {},
   "outputs": [
    {
     "data": {
      "text/plain": [
       "array([[1., 1., 1.],\n",
       "       [1., 1., 1.]])"
      ]
     },
     "execution_count": 84,
     "metadata": {},
     "output_type": "execute_result"
    }
   ],
   "source": [
    "arr4"
   ]
  },
  {
   "cell_type": "code",
   "execution_count": 85,
   "id": "32152764-811d-4c0a-b18e-2c565a2b7b82",
   "metadata": {},
   "outputs": [],
   "source": [
    "arr5=np.empty((3,4,2))"
   ]
  },
  {
   "cell_type": "code",
   "execution_count": 86,
   "id": "eb0600ec-b2a1-4ead-8721-802b41080ca4",
   "metadata": {},
   "outputs": [
    {
     "data": {
      "text/plain": [
       "array([[[2.41907520e-312, 1.08221785e-312],\n",
       "        [2.33419537e-312, 9.76118064e-313],\n",
       "        [2.14321575e-312, 2.35541533e-312],\n",
       "        [8.48798317e-313, 1.06099790e-312]],\n",
       "\n",
       "       [[1.08221785e-312, 8.70018274e-313],\n",
       "        [7.42698527e-313, 2.52517499e-312],\n",
       "        [6.79038654e-313, 2.35541533e-312],\n",
       "        [2.44029516e-312, 2.05833592e-312]],\n",
       "\n",
       "       [[2.12199579e-312, 2.46151512e-312],\n",
       "        [2.41907520e-312, 2.14321575e-312],\n",
       "        [2.10077583e-312, 2.29175545e-312],\n",
       "        [2.31297541e-312, 2.44029516e-312]]])"
      ]
     },
     "execution_count": 86,
     "metadata": {},
     "output_type": "execute_result"
    }
   ],
   "source": [
    "arr5"
   ]
  },
  {
   "cell_type": "code",
   "execution_count": 87,
   "id": "05e1b750-98a9-432a-9606-c396358dea67",
   "metadata": {},
   "outputs": [],
   "source": [
    "arr6=np.random.rand(3,4,2)"
   ]
  },
  {
   "cell_type": "code",
   "execution_count": 88,
   "id": "56f50da2-12c6-47ae-ae8f-8d434939d938",
   "metadata": {},
   "outputs": [
    {
     "data": {
      "text/plain": [
       "array([[[0.25820978, 0.54943971],\n",
       "        [0.74094946, 0.35317081],\n",
       "        [0.35637509, 0.5379524 ],\n",
       "        [0.90072133, 0.84133148]],\n",
       "\n",
       "       [[0.62586754, 0.38505056],\n",
       "        [0.32018922, 0.00220505],\n",
       "        [0.77438699, 0.40909502],\n",
       "        [0.36998153, 0.01769595]],\n",
       "\n",
       "       [[0.04116339, 0.23920422],\n",
       "        [0.21491966, 0.3807116 ],\n",
       "        [0.65054959, 0.27559477],\n",
       "        [0.18661421, 0.08631333]]])"
      ]
     },
     "execution_count": 88,
     "metadata": {},
     "output_type": "execute_result"
    }
   ],
   "source": [
    "arr6"
   ]
  },
  {
   "cell_type": "markdown",
   "id": "049c85c0-7ee8-4119-924b-e6ab453cbf83",
   "metadata": {},
   "source": [
    "# 3.using Identity"
   ]
  },
  {
   "cell_type": "code",
   "execution_count": 89,
   "id": "377e9f1f-e5f3-4be8-80bd-489440dd7dda",
   "metadata": {},
   "outputs": [],
   "source": [
    "arr7=np.identity(5)"
   ]
  },
  {
   "cell_type": "code",
   "execution_count": 90,
   "id": "f0b9b0d4-f1ca-497f-95b6-c3d59fee020b",
   "metadata": {},
   "outputs": [
    {
     "data": {
      "text/plain": [
       "array([[1., 0., 0., 0., 0.],\n",
       "       [0., 1., 0., 0., 0.],\n",
       "       [0., 0., 1., 0., 0.],\n",
       "       [0., 0., 0., 1., 0.],\n",
       "       [0., 0., 0., 0., 1.]])"
      ]
     },
     "execution_count": 90,
     "metadata": {},
     "output_type": "execute_result"
    }
   ],
   "source": [
    "arr7"
   ]
  },
  {
   "cell_type": "markdown",
   "id": "a82f37a0-7026-4b34-984a-855f045fe05d",
   "metadata": {},
   "source": [
    "# 4.using arange"
   ]
  },
  {
   "cell_type": "code",
   "execution_count": 91,
   "id": "b374435d-12e8-4f76-87b0-6d064dedfa78",
   "metadata": {},
   "outputs": [],
   "source": [
    "arr8=np.arange(10)"
   ]
  },
  {
   "cell_type": "code",
   "execution_count": 92,
   "id": "172e9846-a944-4664-b49e-bca716622300",
   "metadata": {},
   "outputs": [
    {
     "data": {
      "text/plain": [
       "array([0, 1, 2, 3, 4, 5, 6, 7, 8, 9])"
      ]
     },
     "execution_count": 92,
     "metadata": {},
     "output_type": "execute_result"
    }
   ],
   "source": [
    "arr8"
   ]
  },
  {
   "cell_type": "code",
   "execution_count": 93,
   "id": "e4a5e72c-3aef-457a-8084-a447b09d596e",
   "metadata": {},
   "outputs": [],
   "source": [
    "arr9=np.arange(5,20)"
   ]
  },
  {
   "cell_type": "code",
   "execution_count": 94,
   "id": "347e19a2-40a1-4ecf-a14e-0e6434b6d33f",
   "metadata": {},
   "outputs": [
    {
     "data": {
      "text/plain": [
       "array([ 5,  6,  7,  8,  9, 10, 11, 12, 13, 14, 15, 16, 17, 18, 19])"
      ]
     },
     "execution_count": 94,
     "metadata": {},
     "output_type": "execute_result"
    }
   ],
   "source": [
    "arr9"
   ]
  },
  {
   "cell_type": "code",
   "execution_count": 95,
   "id": "912ae898-f8a7-4001-a801-d72f9fc7a1a0",
   "metadata": {},
   "outputs": [],
   "source": [
    "arr10=np.arange(10,25,2) # 2 is there to jump count"
   ]
  },
  {
   "cell_type": "code",
   "execution_count": 96,
   "id": "71fa72a3-0033-4d76-8e0d-ab5ee2bdc40c",
   "metadata": {},
   "outputs": [
    {
     "data": {
      "text/plain": [
       "array([10, 12, 14, 16, 18, 20, 22, 24])"
      ]
     },
     "execution_count": 96,
     "metadata": {},
     "output_type": "execute_result"
    }
   ],
   "source": [
    "arr10"
   ]
  },
  {
   "cell_type": "markdown",
   "id": "98364614-ce20-42da-9191-92b24e1b7c4d",
   "metadata": {},
   "source": [
    "# 5.using linspace"
   ]
  },
  {
   "cell_type": "code",
   "execution_count": 97,
   "id": "ebfa1889-dbf7-4c33-b8ef-4be4447700ca",
   "metadata": {},
   "outputs": [],
   "source": [
    "arr11=np.linspace(10,20,10) # (lower range, Higher Range, how much equi distance is make between range)"
   ]
  },
  {
   "cell_type": "code",
   "execution_count": 98,
   "id": "406be95d-011a-4947-a15e-d16bb1d041d2",
   "metadata": {},
   "outputs": [
    {
     "data": {
      "text/plain": [
       "array([10.        , 11.11111111, 12.22222222, 13.33333333, 14.44444444,\n",
       "       15.55555556, 16.66666667, 17.77777778, 18.88888889, 20.        ])"
      ]
     },
     "execution_count": 98,
     "metadata": {},
     "output_type": "execute_result"
    }
   ],
   "source": [
    "arr11"
   ]
  },
  {
   "cell_type": "markdown",
   "id": "14fe95cc-3555-4437-aff0-fd9baf9737fb",
   "metadata": {},
   "source": [
    "# 6.using copy"
   ]
  },
  {
   "cell_type": "code",
   "execution_count": 99,
   "id": "e43094de-2246-4806-9795-95597def2472",
   "metadata": {},
   "outputs": [],
   "source": [
    "arr12=arr10.copy()  # copy any numpy array from above"
   ]
  },
  {
   "cell_type": "code",
   "execution_count": 100,
   "id": "b1b3fc9a-2f0d-4a0b-a4bd-a970327af18e",
   "metadata": {},
   "outputs": [
    {
     "data": {
      "text/plain": [
       "array([10, 12, 14, 16, 18, 20, 22, 24])"
      ]
     },
     "execution_count": 100,
     "metadata": {},
     "output_type": "execute_result"
    }
   ],
   "source": [
    "arr12"
   ]
  },
  {
   "cell_type": "markdown",
   "id": "6eccdc9c-ecb1-4a1d-983d-1bb6b8f02e35",
   "metadata": {},
   "source": [
    "#  #Numpy Array Properties and Attributes"
   ]
  },
  {
   "cell_type": "code",
   "execution_count": 101,
   "id": "56e94be2-7da2-4878-9923-d8afd1a94ff9",
   "metadata": {},
   "outputs": [
    {
     "data": {
      "text/plain": [
       "array([[[2, 5, 3],\n",
       "        [4, 7, 8],\n",
       "        [3, 5, 6]],\n",
       "\n",
       "       [[3, 5, 6],\n",
       "        [6, 2, 1],\n",
       "        [9, 4, 8]]])"
      ]
     },
     "execution_count": 101,
     "metadata": {},
     "output_type": "execute_result"
    }
   ],
   "source": [
    "arr13=np.array([[[2,5,3],[4,7,8],[3,5,6]],[[3,5,6],[6,2,1],[9,4,8]]])\n",
    "arr13"
   ]
  },
  {
   "cell_type": "markdown",
   "id": "fc2d4304-c845-4b0a-bcb5-a69c48b2d4e3",
   "metadata": {},
   "source": [
    "# 1.shape"
   ]
  },
  {
   "cell_type": "code",
   "execution_count": 102,
   "id": "8f8daf00-c64a-44c8-a6d2-f6a079e7eb28",
   "metadata": {},
   "outputs": [
    {
     "data": {
      "text/plain": [
       "(2, 3, 3)"
      ]
     },
     "execution_count": 102,
     "metadata": {},
     "output_type": "execute_result"
    }
   ],
   "source": [
    "arr13.shape   #display the (outermost arrays,rows,columns)"
   ]
  },
  {
   "cell_type": "markdown",
   "id": "6e5071e9-95a1-42c0-9911-470920885527",
   "metadata": {},
   "source": [
    "# 2.ndim"
   ]
  },
  {
   "cell_type": "code",
   "execution_count": 103,
   "id": "4aa208d3-26fd-4590-90c5-01cb306e5ec3",
   "metadata": {},
   "outputs": [
    {
     "data": {
      "text/plain": [
       "3"
      ]
     },
     "execution_count": 103,
     "metadata": {},
     "output_type": "execute_result"
    }
   ],
   "source": [
    "arr13.ndim   #display the number of dimensional of arrays"
   ]
  },
  {
   "cell_type": "markdown",
   "id": "15e847e5-5eea-4ee1-ac60-0778b2d85c9f",
   "metadata": {},
   "source": [
    "# 3.size"
   ]
  },
  {
   "cell_type": "code",
   "execution_count": 104,
   "id": "ba5a8023-a0b8-4eba-9643-1a9c4d63bfe2",
   "metadata": {},
   "outputs": [
    {
     "data": {
      "text/plain": [
       "18"
      ]
     },
     "execution_count": 104,
     "metadata": {},
     "output_type": "execute_result"
    }
   ],
   "source": [
    "arr13.size   #multiply the outermost arrays*rows*columns"
   ]
  },
  {
   "cell_type": "markdown",
   "id": "1c483ced-aa88-4c93-a882-a15137ada6c0",
   "metadata": {},
   "source": [
    "# 4.Itemsize( its like a datatype of item)"
   ]
  },
  {
   "cell_type": "code",
   "execution_count": 105,
   "id": "ef022c77-97f4-4eb0-9a24-8e2d93fe2e56",
   "metadata": {},
   "outputs": [
    {
     "data": {
      "text/plain": [
       "8"
      ]
     },
     "execution_count": 105,
     "metadata": {},
     "output_type": "execute_result"
    }
   ],
   "source": [
    "arr13.itemsize\n",
    "# 🔎 Why?\n",
    "#Default dtype on most systems = int64 (each integer = 8 bytes).\n",
    "#So, itemsize = 8. "
   ]
  },
  {
   "cell_type": "markdown",
   "id": "a70582e7-27cb-4b29-9ac4-2cf5595de662",
   "metadata": {},
   "source": [
    "# 5.dtype"
   ]
  },
  {
   "cell_type": "code",
   "execution_count": 106,
   "id": "c8084b65-6b5e-466f-9080-cdc2bf349006",
   "metadata": {},
   "outputs": [
    {
     "data": {
      "text/plain": [
       "dtype('int64')"
      ]
     },
     "execution_count": 106,
     "metadata": {},
     "output_type": "execute_result"
    }
   ],
   "source": [
    "arr13.dtype"
   ]
  },
  {
   "cell_type": "code",
   "execution_count": 107,
   "id": "a34d9d05-6336-4099-a09e-7a96c6f04691",
   "metadata": {},
   "outputs": [
    {
     "data": {
      "text/plain": [
       "dtype('float64')"
      ]
     },
     "execution_count": 107,
     "metadata": {},
     "output_type": "execute_result"
    }
   ],
   "source": [
    "arr11.dtype"
   ]
  },
  {
   "cell_type": "markdown",
   "id": "17d34c4b-2c5a-46e4-aa46-85bf2bfa4c78",
   "metadata": {},
   "source": [
    "# 6.astype() ------>(convert one data types into other)"
   ]
  },
  {
   "cell_type": "code",
   "execution_count": 108,
   "id": "9fcca24b-b0f9-4556-a5e9-bbce1d41c8ed",
   "metadata": {},
   "outputs": [
    {
     "data": {
      "text/plain": [
       "array([[[2., 5., 3.],\n",
       "        [4., 7., 8.],\n",
       "        [3., 5., 6.]],\n",
       "\n",
       "       [[3., 5., 6.],\n",
       "        [6., 2., 1.],\n",
       "        [9., 4., 8.]]])"
      ]
     },
     "execution_count": 108,
     "metadata": {},
     "output_type": "execute_result"
    }
   ],
   "source": [
    "arr13.astype('float')"
   ]
  },
  {
   "cell_type": "code",
   "execution_count": 109,
   "id": "4a2c8022-790d-40d1-bac3-b531a19d136f",
   "metadata": {},
   "outputs": [],
   "source": [
    "# array11([10.        , 11.11111111, 12.22222222, 13.33333333, 14.44444444,\n",
    "#       15.55555556, 16.66666667, 17.77777778, 18.88888889, 20.        ])"
   ]
  },
  {
   "cell_type": "code",
   "execution_count": 110,
   "id": "c96921c7-fb93-426b-a799-25dda57b15b7",
   "metadata": {},
   "outputs": [
    {
     "data": {
      "text/plain": [
       "array([10, 11, 12, 13, 14, 15, 16, 17, 18, 20])"
      ]
     },
     "execution_count": 110,
     "metadata": {},
     "output_type": "execute_result"
    }
   ],
   "source": [
    "arr11.astype('int')"
   ]
  },
  {
   "cell_type": "markdown",
   "id": "ef4017d1-238c-45c1-82b6-c61e5c629880",
   "metadata": {},
   "source": [
    "#    #Numpy Array Vs Python Lists"
   ]
  },
  {
   "cell_type": "markdown",
   "id": "5d0428a7-06b0-4dba-b91f-6ccc12a463b1",
   "metadata": {},
   "source": [
    "# 1.compare size between array and list( notes:: array stores less bytes than list)"
   ]
  },
  {
   "cell_type": "code",
   "execution_count": 111,
   "id": "778ed318-95e3-4325-95e8-b422bd328628",
   "metadata": {},
   "outputs": [],
   "source": [
    "lista=range(100)\n",
    "arr14=np.arange(100)"
   ]
  },
  {
   "cell_type": "code",
   "execution_count": 112,
   "id": "5ce67e11-8b8a-43af-a77f-79f4289e4af2",
   "metadata": {},
   "outputs": [],
   "source": [
    "import sys"
   ]
  },
  {
   "cell_type": "markdown",
   "id": "09bd12b5-5603-471c-9f66-5126a7db89c4",
   "metadata": {},
   "source": [
    "# i.for list"
   ]
  },
  {
   "cell_type": "code",
   "execution_count": 113,
   "id": "a982567d-e42a-4961-b2af-ce908fcdd810",
   "metadata": {},
   "outputs": [
    {
     "name": "stdout",
     "output_type": "stream",
     "text": [
      "2800\n"
     ]
    }
   ],
   "source": [
    "print(sys.getsizeof(87)*len(lista))   # 87 is a random number in between 100 amd its size is 28 for 64-bit system "
   ]
  },
  {
   "cell_type": "markdown",
   "id": "ad3ef5c0-6554-43ee-bcc0-b8bab1f23f94",
   "metadata": {},
   "source": [
    "# ii.for array"
   ]
  },
  {
   "cell_type": "code",
   "execution_count": 114,
   "id": "c2137444-2bd9-457b-b65d-e9277ba93013",
   "metadata": {},
   "outputs": [
    {
     "name": "stdout",
     "output_type": "stream",
     "text": [
      "800\n"
     ]
    }
   ],
   "source": [
    "print(arr14.itemsize*arr14.size)"
   ]
  },
  {
   "cell_type": "markdown",
   "id": "c75725ae-70c3-41e6-b8b2-73a46a9581ad",
   "metadata": {},
   "source": [
    "# 2.numpy arrays are faster than list"
   ]
  },
  {
   "cell_type": "markdown",
   "id": "e9e6d989-ce06-4382-8120-30eb35d6383b",
   "metadata": {},
   "source": [
    "# i.for list"
   ]
  },
  {
   "cell_type": "code",
   "execution_count": 115,
   "id": "94feccc0-15f0-4cd6-8600-50f94d7de5e1",
   "metadata": {},
   "outputs": [
    {
     "name": "stdout",
     "output_type": "stream",
     "text": [
      "4.179255962371826\n"
     ]
    }
   ],
   "source": [
    "x=range(10000000)\n",
    "y=range(10000000,20000000)\n",
    "import time\n",
    "start_time=time.time()     #stores current time in start_time\n",
    "c=[x+y for x,y in zip(x,y)]  #zip is used to combine two list in single based on operation which you will performed)\n",
    "print(time.time()-start_time)"
   ]
  },
  {
   "cell_type": "markdown",
   "id": "3423ec9c-bff4-48fd-b926-f3ea91cb67c0",
   "metadata": {},
   "source": [
    "# ii.for array"
   ]
  },
  {
   "cell_type": "code",
   "execution_count": 116,
   "id": "d62a9e5b-27b7-4582-9a46-cbf655805be5",
   "metadata": {},
   "outputs": [
    {
     "name": "stdout",
     "output_type": "stream",
     "text": [
      "0.4965813159942627\n"
     ]
    }
   ],
   "source": [
    "a=np.arange(10000000)\n",
    "b=np.arange(10000000,20000000)\n",
    "start_time=time.time()\n",
    "c=a+b\n",
    "print(time.time()-start_time)"
   ]
  },
  {
   "cell_type": "markdown",
   "id": "66f34f9c-881a-48c3-909c-ed6d720ce948",
   "metadata": {},
   "source": [
    "# #Indexing, Slicing and Iteration"
   ]
  },
  {
   "cell_type": "markdown",
   "id": "a4c8d1ed-89bd-4bfa-8279-d59ef3092068",
   "metadata": {},
   "source": [
    "# i.performing indexing and slicing operations"
   ]
  },
  {
   "cell_type": "code",
   "execution_count": 204,
   "id": "2892e533-1a84-4dff-96f5-6cbebab41a3a",
   "metadata": {},
   "outputs": [
    {
     "data": {
      "text/plain": [
       "array([ 0,  1,  2,  3,  4,  5,  6,  7,  8,  9, 10, 11, 12, 13, 14, 15, 16,\n",
       "       17, 18, 19, 20, 21, 22, 23])"
      ]
     },
     "execution_count": 204,
     "metadata": {},
     "output_type": "execute_result"
    }
   ],
   "source": [
    "arr15=np.arange(24)\n",
    "arr15"
   ]
  },
  {
   "cell_type": "code",
   "execution_count": 205,
   "id": "63009bd8-3263-4fa8-baed-9aa1a9136c49",
   "metadata": {},
   "outputs": [
    {
     "data": {
      "text/plain": [
       "array([[ 0,  1,  2,  3],\n",
       "       [ 4,  5,  6,  7],\n",
       "       [ 8,  9, 10, 11],\n",
       "       [12, 13, 14, 15],\n",
       "       [16, 17, 18, 19],\n",
       "       [20, 21, 22, 23]])"
      ]
     },
     "execution_count": 205,
     "metadata": {},
     "output_type": "execute_result"
    }
   ],
   "source": [
    "new_shape=arr15.reshape(6,4)\n",
    "new_shape"
   ]
  },
  {
   "cell_type": "markdown",
   "id": "0ee11ad2-1a41-44f4-9b4b-47b129cd6910",
   "metadata": {},
   "source": [
    "# *some operations performed"
   ]
  },
  {
   "cell_type": "code",
   "execution_count": 129,
   "id": "bd8f86b0-a2fe-4e12-9d5b-3850d6ea5a31",
   "metadata": {},
   "outputs": [
    {
     "data": {
      "text/plain": [
       "array([12, 13, 14, 15])"
      ]
     },
     "execution_count": 129,
     "metadata": {},
     "output_type": "execute_result"
    }
   ],
   "source": [
    "# finding 4th rows\n",
    "new_shape[3]"
   ]
  },
  {
   "cell_type": "code",
   "execution_count": 131,
   "id": "a1204c18-43ed-472a-be0b-11e055367fbf",
   "metadata": {},
   "outputs": [
    {
     "data": {
      "text/plain": [
       "array([ 2,  6, 10, 14, 18, 22])"
      ]
     },
     "execution_count": 131,
     "metadata": {},
     "output_type": "execute_result"
    }
   ],
   "source": [
    "#finding 3rd column\n",
    "new_shape[:,2]"
   ]
  },
  {
   "cell_type": "code",
   "execution_count": 132,
   "id": "eabf8210-bfd0-43ee-9406-6100e0b14299",
   "metadata": {},
   "outputs": [
    {
     "data": {
      "text/plain": [
       "array([[ 1,  2],\n",
       "       [ 5,  6],\n",
       "       [ 9, 10],\n",
       "       [13, 14],\n",
       "       [17, 18],\n",
       "       [21, 22]])"
      ]
     },
     "execution_count": 132,
     "metadata": {},
     "output_type": "execute_result"
    }
   ],
   "source": [
    "#finding 2nd and 3rd column\n",
    "new_shape[:,1:3]"
   ]
  },
  {
   "cell_type": "code",
   "execution_count": 133,
   "id": "aaa40800-d940-4b10-84a6-d62cf7e2a219",
   "metadata": {},
   "outputs": [
    {
     "data": {
      "text/plain": [
       "array([[ 9, 10],\n",
       "       [13, 14]])"
      ]
     },
     "execution_count": 133,
     "metadata": {},
     "output_type": "execute_result"
    }
   ],
   "source": [
    "# finding [9,10,13,14]\n",
    "new_shape[2:4,1:3]"
   ]
  },
  {
   "cell_type": "code",
   "execution_count": 134,
   "id": "65725f57-559c-47d8-9657-f93bf13bab05",
   "metadata": {},
   "outputs": [
    {
     "data": {
      "text/plain": [
       "array([[18, 19],\n",
       "       [22, 23]])"
      ]
     },
     "execution_count": 134,
     "metadata": {},
     "output_type": "execute_result"
    }
   ],
   "source": [
    "# finding [18,19,22,23]\n",
    "new_shape[4:6,2:4]     "
   ]
  },
  {
   "cell_type": "code",
   "execution_count": 135,
   "id": "e375282e-ecfd-43f4-a1f0-f34a9404667e",
   "metadata": {},
   "outputs": [
    {
     "data": {
      "text/plain": [
       "array([[18, 19],\n",
       "       [22, 23]])"
      ]
     },
     "execution_count": 135,
     "metadata": {},
     "output_type": "execute_result"
    }
   ],
   "source": [
    "new_shape[-2:,-2:]  # we can do also to find [18,19,22,23]"
   ]
  },
  {
   "cell_type": "markdown",
   "id": "6d710a98-d90f-48fb-bcae-beb3e03d90a0",
   "metadata": {},
   "source": [
    "# ii.performing iteration operations"
   ]
  },
  {
   "cell_type": "code",
   "execution_count": 137,
   "id": "e3f3cdf1-09ea-4b27-bb07-e44f4c11275f",
   "metadata": {},
   "outputs": [
    {
     "name": "stdout",
     "output_type": "stream",
     "text": [
      "[0 1 2 3]\n",
      "[4 5 6 7]\n",
      "[ 8  9 10 11]\n",
      "[12 13 14 15]\n",
      "[16 17 18 19]\n",
      "[20 21 22 23]\n"
     ]
    }
   ],
   "source": [
    "for i in new_shape:\n",
    "    print(i)"
   ]
  },
  {
   "cell_type": "code",
   "execution_count": 138,
   "id": "2b4ce516-03a6-4830-9564-712ea3f20434",
   "metadata": {},
   "outputs": [
    {
     "name": "stdout",
     "output_type": "stream",
     "text": [
      "0\n",
      "1\n",
      "2\n",
      "3\n",
      "4\n",
      "5\n",
      "6\n",
      "7\n",
      "8\n",
      "9\n",
      "10\n",
      "11\n",
      "12\n",
      "13\n",
      "14\n",
      "15\n",
      "16\n",
      "17\n",
      "18\n",
      "19\n",
      "20\n",
      "21\n",
      "22\n",
      "23\n"
     ]
    }
   ],
   "source": [
    "for i in np.nditer(new_shape):\n",
    "    print(i)"
   ]
  },
  {
   "cell_type": "markdown",
   "id": "16badf85-6feb-4212-8d8f-2dbd9bd79fb1",
   "metadata": {},
   "source": [
    "# #Numpy Operations"
   ]
  },
  {
   "cell_type": "markdown",
   "id": "c9a268ec-4aaa-4a2c-beaa-999fb67f2d68",
   "metadata": {},
   "source": [
    "# *Arithmetic operation"
   ]
  },
  {
   "cell_type": "code",
   "execution_count": 142,
   "id": "d1f5c12f-26a9-4d10-8e9b-366c2d1872c6",
   "metadata": {},
   "outputs": [],
   "source": [
    "arr111=np.array([1,3,4,7,8])\n",
    "arr222=np.array([2,5,8,2,1])"
   ]
  },
  {
   "cell_type": "code",
   "execution_count": 143,
   "id": "e6ea1768-a677-4da8-811f-5d979191a9fb",
   "metadata": {},
   "outputs": [
    {
     "data": {
      "text/plain": [
       "array([-1, -2, -4,  5,  7])"
      ]
     },
     "execution_count": 143,
     "metadata": {},
     "output_type": "execute_result"
    }
   ],
   "source": [
    "arr111-arr222"
   ]
  },
  {
   "cell_type": "code",
   "execution_count": 144,
   "id": "dc4aea11-de1d-40bb-a91f-a29b5b17656c",
   "metadata": {},
   "outputs": [
    {
     "data": {
      "text/plain": [
       "array([ 2, 15, 32, 14,  8])"
      ]
     },
     "execution_count": 144,
     "metadata": {},
     "output_type": "execute_result"
    }
   ],
   "source": [
    "arr111*arr222"
   ]
  },
  {
   "cell_type": "code",
   "execution_count": 146,
   "id": "541a30d9-0e9d-40bd-9e68-8effea78bdef",
   "metadata": {},
   "outputs": [
    {
     "data": {
      "text/plain": [
       "array([False,  True,  True, False, False])"
      ]
     },
     "execution_count": 146,
     "metadata": {},
     "output_type": "execute_result"
    }
   ],
   "source": [
    "arr222>3"
   ]
  },
  {
   "cell_type": "code",
   "execution_count": 149,
   "id": "bdf26e5a-35c9-49b4-a271-104fe6dc5c04",
   "metadata": {},
   "outputs": [],
   "source": [
    "arr333=np.arange(6).reshape(2,3)\n",
    "arr444=np.arange(6,12).reshape(3,2)"
   ]
  },
  {
   "cell_type": "code",
   "execution_count": 151,
   "id": "93e18b53-cbbc-43f6-9905-6b57353b78d9",
   "metadata": {},
   "outputs": [
    {
     "data": {
      "text/plain": [
       "array([[ 28,  31],\n",
       "       [100, 112]])"
      ]
     },
     "execution_count": 151,
     "metadata": {},
     "output_type": "execute_result"
    }
   ],
   "source": [
    "# dot is used to multiply two matrices if they full fill criteria like( a*b=b*a ) note: b must have to equal\n",
    "arr333.dot(arr444)"
   ]
  },
  {
   "cell_type": "markdown",
   "id": "2a99e4da-5dbb-4dc3-b799-25deea7e1085",
   "metadata": {},
   "source": [
    "# *Unary Operations"
   ]
  },
  {
   "cell_type": "code",
   "execution_count": 152,
   "id": "b2882d69-b511-4c67-a9a8-b7c5bd40510c",
   "metadata": {},
   "outputs": [
    {
     "data": {
      "text/plain": [
       "array([[ 0,  1,  2,  3,  4,  5],\n",
       "       [ 6,  7,  8,  9, 10, 11],\n",
       "       [12, 13, 14, 15, 16, 17]])"
      ]
     },
     "execution_count": 152,
     "metadata": {},
     "output_type": "execute_result"
    }
   ],
   "source": [
    "arr555=np.arange(18).reshape(3,6)\n",
    "arr555"
   ]
  },
  {
   "cell_type": "code",
   "execution_count": 156,
   "id": "de6cb1c3-578c-49d0-81db-d9724871c698",
   "metadata": {},
   "outputs": [
    {
     "name": "stdout",
     "output_type": "stream",
     "text": [
      "0\n"
     ]
    }
   ],
   "source": [
    "print(arr555.min())"
   ]
  },
  {
   "cell_type": "code",
   "execution_count": 157,
   "id": "2c449006-e540-437c-845b-7c94dc9199bf",
   "metadata": {},
   "outputs": [
    {
     "name": "stdout",
     "output_type": "stream",
     "text": [
      "17\n"
     ]
    }
   ],
   "source": [
    "print(arr555.max())"
   ]
  },
  {
   "cell_type": "code",
   "execution_count": 160,
   "id": "abd23acd-0de3-420f-b123-c9952efe9577",
   "metadata": {},
   "outputs": [
    {
     "data": {
      "text/plain": [
       "array([0, 1, 2, 3, 4, 5])"
      ]
     },
     "execution_count": 160,
     "metadata": {},
     "output_type": "execute_result"
    }
   ],
   "source": [
    "#using axis we can get every maximum/minimum elements either from row or columns\n",
    "# to get row wise maximum/minimum we will use axis=0\n",
    "# to get column wise maximum/minimum we will use axis=1\n",
    "arr555.min(axis=0)"
   ]
  },
  {
   "cell_type": "code",
   "execution_count": 161,
   "id": "71a0b1fb-2020-4a53-aafe-48408044ad89",
   "metadata": {},
   "outputs": [
    {
     "data": {
      "text/plain": [
       "array([12, 13, 14, 15, 16, 17])"
      ]
     },
     "execution_count": 161,
     "metadata": {},
     "output_type": "execute_result"
    }
   ],
   "source": [
    "arr555.max(axis=0)"
   ]
  },
  {
   "cell_type": "code",
   "execution_count": 162,
   "id": "dea03ac9-ca64-4614-a520-36f9a77ec720",
   "metadata": {},
   "outputs": [
    {
     "data": {
      "text/plain": [
       "array([ 0,  6, 12])"
      ]
     },
     "execution_count": 162,
     "metadata": {},
     "output_type": "execute_result"
    }
   ],
   "source": [
    "arr555.min(axis=1)"
   ]
  },
  {
   "cell_type": "code",
   "execution_count": 163,
   "id": "adbdac97-74d1-4497-b215-a4820b7d5fc6",
   "metadata": {},
   "outputs": [
    {
     "data": {
      "text/plain": [
       "array([ 5, 11, 17])"
      ]
     },
     "execution_count": 163,
     "metadata": {},
     "output_type": "execute_result"
    }
   ],
   "source": [
    "arr555.max(axis=1)"
   ]
  },
  {
   "cell_type": "code",
   "execution_count": 167,
   "id": "07c37317-c831-432b-9f46-afb9da68d108",
   "metadata": {},
   "outputs": [
    {
     "name": "stdout",
     "output_type": "stream",
     "text": [
      "153\n"
     ]
    }
   ],
   "source": [
    "print(arr555.sum()) #add whole array"
   ]
  },
  {
   "cell_type": "code",
   "execution_count": 168,
   "id": "c83be4e6-65ff-4193-8c35-05eafd51ad05",
   "metadata": {},
   "outputs": [
    {
     "data": {
      "text/plain": [
       "array([18, 21, 24, 27, 30, 33])"
      ]
     },
     "execution_count": 168,
     "metadata": {},
     "output_type": "execute_result"
    }
   ],
   "source": [
    "arr555.sum(axis=0)    # add columns wise array in one"
   ]
  },
  {
   "cell_type": "code",
   "execution_count": 169,
   "id": "b1cd7f80-845b-4385-a62f-201a75849373",
   "metadata": {},
   "outputs": [
    {
     "data": {
      "text/plain": [
       "array([15, 51, 87])"
      ]
     },
     "execution_count": 169,
     "metadata": {},
     "output_type": "execute_result"
    }
   ],
   "source": [
    "arr555.sum(axis=1)    # add rows wise array in one"
   ]
  },
  {
   "cell_type": "code",
   "execution_count": 171,
   "id": "b2ce6559-46bd-41b8-b06f-51940115a0b6",
   "metadata": {},
   "outputs": [
    {
     "name": "stdout",
     "output_type": "stream",
     "text": [
      "8.5\n"
     ]
    }
   ],
   "source": [
    "print(arr555.mean())"
   ]
  },
  {
   "cell_type": "code",
   "execution_count": 172,
   "id": "24db3ad1-fbde-4acd-8f56-debe021910bd",
   "metadata": {},
   "outputs": [
    {
     "name": "stdout",
     "output_type": "stream",
     "text": [
      "5.188127472091127\n"
     ]
    }
   ],
   "source": [
    "print(arr555.std())"
   ]
  },
  {
   "cell_type": "code",
   "execution_count": 174,
   "id": "e204c80c-ebaf-46c9-b2f4-f7e683aae5f5",
   "metadata": {},
   "outputs": [
    {
     "name": "stdout",
     "output_type": "stream",
     "text": [
      "8.5\n"
     ]
    }
   ],
   "source": [
    "print(np.median(arr555))  # here we can't use median directly with array instead we have to use object then pass array inside that object "
   ]
  },
  {
   "cell_type": "markdown",
   "id": "86afcc0d-b9fd-49bd-97ad-9dbcf4ff1abb",
   "metadata": {},
   "source": [
    "# *Universal Operations"
   ]
  },
  {
   "cell_type": "code",
   "execution_count": 176,
   "id": "239d5ac5-f8d5-49b7-9bb4-fa4049cb1991",
   "metadata": {},
   "outputs": [
    {
     "data": {
      "text/plain": [
       "array([[ 0.        ,  0.84147098,  0.90929743,  0.14112001, -0.7568025 ,\n",
       "        -0.95892427],\n",
       "       [-0.2794155 ,  0.6569866 ,  0.98935825,  0.41211849, -0.54402111,\n",
       "        -0.99999021],\n",
       "       [-0.53657292,  0.42016704,  0.99060736,  0.65028784, -0.28790332,\n",
       "        -0.96139749]])"
      ]
     },
     "execution_count": 176,
     "metadata": {},
     "output_type": "execute_result"
    }
   ],
   "source": [
    "# In NumPy, np.sin() calculates the sine of each element (in radians) in an array.\n",
    "#sin(0) = 0\n",
    "#sin(π/2) = 1\n",
    "#sin(π) = 0\n",
    "np.sin(arr555)"
   ]
  },
  {
   "cell_type": "code",
   "execution_count": 178,
   "id": "77ce0c22-3d7e-44be-8148-b15182caffc0",
   "metadata": {},
   "outputs": [
    {
     "data": {
      "text/plain": [
       "array([[1.00000000e+00, 2.71828183e+00, 7.38905610e+00, 2.00855369e+01,\n",
       "        5.45981500e+01, 1.48413159e+02],\n",
       "       [4.03428793e+02, 1.09663316e+03, 2.98095799e+03, 8.10308393e+03,\n",
       "        2.20264658e+04, 5.98741417e+04],\n",
       "       [1.62754791e+05, 4.42413392e+05, 1.20260428e+06, 3.26901737e+06,\n",
       "        8.88611052e+06, 2.41549528e+07]])"
      ]
     },
     "execution_count": 178,
     "metadata": {},
     "output_type": "execute_result"
    }
   ],
   "source": [
    "np.exp(arr555)"
   ]
  },
  {
   "cell_type": "code",
   "execution_count": 180,
   "id": "47e02542-8c8c-4b1c-b35a-47fa926b750c",
   "metadata": {},
   "outputs": [
    {
     "data": {
      "text/plain": [
       "array([[0.        , 1.        , 1.41421356, 1.73205081, 2.        ,\n",
       "        2.23606798],\n",
       "       [2.44948974, 2.64575131, 2.82842712, 3.        , 3.16227766,\n",
       "        3.31662479],\n",
       "       [3.46410162, 3.60555128, 3.74165739, 3.87298335, 4.        ,\n",
       "        4.12310563]])"
      ]
     },
     "execution_count": 180,
     "metadata": {},
     "output_type": "execute_result"
    }
   ],
   "source": [
    "np.sqrt(arr555)"
   ]
  },
  {
   "cell_type": "markdown",
   "id": "95952ffa-095e-4cb2-b0a0-dd0cb95be20f",
   "metadata": {},
   "source": [
    "# #Reshaping Numpy Array"
   ]
  },
  {
   "cell_type": "markdown",
   "id": "df1400be-976f-4d92-88d6-41aa2c77dcf1",
   "metadata": {},
   "source": [
    "# i.Ravel"
   ]
  },
  {
   "cell_type": "code",
   "execution_count": 188,
   "id": "4c98f340-2b92-4af2-9846-a2aa4a417292",
   "metadata": {},
   "outputs": [
    {
     "data": {
      "text/plain": [
       "array([ 0,  1,  2,  3,  4,  5,  6,  7,  8,  9, 10, 11])"
      ]
     },
     "execution_count": 188,
     "metadata": {},
     "output_type": "execute_result"
    }
   ],
   "source": [
    "arr666=np.arange(12)\n",
    "arr666"
   ]
  },
  {
   "cell_type": "code",
   "execution_count": 189,
   "id": "554b96b5-fd9e-49c1-bd61-dfe67f08131d",
   "metadata": {},
   "outputs": [
    {
     "data": {
      "text/plain": [
       "array([[ 0,  1,  2],\n",
       "       [ 3,  4,  5],\n",
       "       [ 6,  7,  8],\n",
       "       [ 9, 10, 11]])"
      ]
     },
     "execution_count": 189,
     "metadata": {},
     "output_type": "execute_result"
    }
   ],
   "source": [
    "arr666.reshape(4,3)"
   ]
  },
  {
   "cell_type": "code",
   "execution_count": 192,
   "id": "399de6cf-c5fc-43d9-babf-3687034b3dc5",
   "metadata": {},
   "outputs": [
    {
     "data": {
      "text/plain": [
       "array([ 0,  1,  2,  3,  4,  5,  6,  7,  8,  9, 10, 11])"
      ]
     },
     "execution_count": 192,
     "metadata": {},
     "output_type": "execute_result"
    }
   ],
   "source": [
    "# ravel is used to change the shape of an array(1-d,2-d...) just like nditer\n",
    "arr666.ravel()"
   ]
  },
  {
   "cell_type": "markdown",
   "id": "0a80dd92-daa4-464f-af13-453129a66d9c",
   "metadata": {},
   "source": [
    "# ii.Transpose"
   ]
  },
  {
   "cell_type": "code",
   "execution_count": 202,
   "id": "4957a215-5879-4ac9-8867-7a11c3b5b084",
   "metadata": {},
   "outputs": [
    {
     "data": {
      "text/plain": [
       "array([[ 0,  1,  2,  3],\n",
       "       [ 4,  5,  6,  7],\n",
       "       [ 8,  9, 10, 11],\n",
       "       [12, 13, 14, 15]])"
      ]
     },
     "execution_count": 202,
     "metadata": {},
     "output_type": "execute_result"
    }
   ],
   "source": [
    "#convert row elements to rows and vice versa\n",
    "arr777=np.arange(16)\n",
    "trans=arr777.reshape(4,4)\n",
    "trans"
   ]
  },
  {
   "cell_type": "code",
   "execution_count": 203,
   "id": "f26772d0-b730-4b57-8940-a0085ecad3f3",
   "metadata": {},
   "outputs": [
    {
     "data": {
      "text/plain": [
       "array([[ 0,  4,  8, 12],\n",
       "       [ 1,  5,  9, 13],\n",
       "       [ 2,  6, 10, 14],\n",
       "       [ 3,  7, 11, 15]])"
      ]
     },
     "execution_count": 203,
     "metadata": {},
     "output_type": "execute_result"
    }
   ],
   "source": [
    "trans.transpose()"
   ]
  },
  {
   "cell_type": "markdown",
   "id": "de0a99ac-9b01-44bc-9265-da237c311392",
   "metadata": {},
   "source": [
    "# iii.Stacking"
   ]
  },
  {
   "cell_type": "code",
   "execution_count": 206,
   "id": "b840b410-9e86-41c8-a9bd-27f927bb17ca",
   "metadata": {},
   "outputs": [
    {
     "data": {
      "text/plain": [
       "array([[0, 1, 2],\n",
       "       [3, 4, 5]])"
      ]
     },
     "execution_count": 206,
     "metadata": {},
     "output_type": "execute_result"
    }
   ],
   "source": [
    "arr888=np.arange(6).reshape(2,3)\n",
    "arr888"
   ]
  },
  {
   "cell_type": "code",
   "execution_count": 207,
   "id": "90606de0-963a-4172-b5b2-f02ef36c627a",
   "metadata": {},
   "outputs": [
    {
     "data": {
      "text/plain": [
       "array([[ 6,  7,  8],\n",
       "       [ 9, 10, 11]])"
      ]
     },
     "execution_count": 207,
     "metadata": {},
     "output_type": "execute_result"
    }
   ],
   "source": [
    "arr999=np.arange(6,12).reshape(2,3)\n",
    "arr999"
   ]
  },
  {
   "cell_type": "code",
   "execution_count": 208,
   "id": "87d965ea-a8df-4fd2-b2ec-386a5d6a5851",
   "metadata": {},
   "outputs": [
    {
     "data": {
      "text/plain": [
       "array([[ 0,  1,  2,  6,  7,  8],\n",
       "       [ 3,  4,  5,  9, 10, 11]])"
      ]
     },
     "execution_count": 208,
     "metadata": {},
     "output_type": "execute_result"
    }
   ],
   "source": [
    "#Horizontal Stacking\n",
    "np.hstack((arr888,arr999))"
   ]
  },
  {
   "cell_type": "code",
   "execution_count": 209,
   "id": "f092fa3b-6eea-4f3f-aaff-ea56b2c1d98a",
   "metadata": {},
   "outputs": [
    {
     "data": {
      "text/plain": [
       "array([[ 0,  1,  2],\n",
       "       [ 3,  4,  5],\n",
       "       [ 6,  7,  8],\n",
       "       [ 9, 10, 11]])"
      ]
     },
     "execution_count": 209,
     "metadata": {},
     "output_type": "execute_result"
    }
   ],
   "source": [
    "#Vertical Stacking\n",
    "np.vstack((arr888,arr999))"
   ]
  },
  {
   "cell_type": "markdown",
   "id": "775aef21-9b5d-4e0d-b6b0-896ca0a7edb9",
   "metadata": {},
   "source": [
    "# iv.Spliting"
   ]
  },
  {
   "cell_type": "code",
   "execution_count": 211,
   "id": "95277fd6-66b5-4830-bb84-e763338489e4",
   "metadata": {},
   "outputs": [
    {
     "data": {
      "text/plain": [
       "array([[ 0,  1,  2,  3],\n",
       "       [ 4,  5,  6,  7],\n",
       "       [ 8,  9, 10, 11],\n",
       "       [12, 13, 14, 15]])"
      ]
     },
     "execution_count": 211,
     "metadata": {},
     "output_type": "execute_result"
    }
   ],
   "source": [
    "arr999=np.arange(16).reshape(4,4)\n",
    "arr999"
   ]
  },
  {
   "cell_type": "code",
   "execution_count": 214,
   "id": "3d805300-b904-4249-b307-6dc50cf80f3d",
   "metadata": {},
   "outputs": [
    {
     "data": {
      "text/plain": [
       "[array([[0, 1, 2, 3],\n",
       "        [4, 5, 6, 7]]),\n",
       " array([[ 8,  9, 10, 11],\n",
       "        [12, 13, 14, 15]])]"
      ]
     },
     "execution_count": 214,
     "metadata": {},
     "output_type": "execute_result"
    }
   ],
   "source": [
    "# split into 2 parts (by rows)\n",
    "np.split(arr999, 2)  "
   ]
  },
  {
   "cell_type": "code",
   "execution_count": 215,
   "id": "d9adc7a1-1d93-42a4-b5f5-0ed8fc41875b",
   "metadata": {},
   "outputs": [
    {
     "data": {
      "text/plain": [
       "[array([[ 0,  1],\n",
       "        [ 4,  5],\n",
       "        [ 8,  9],\n",
       "        [12, 13]]),\n",
       " array([[ 2,  3],\n",
       "        [ 6,  7],\n",
       "        [10, 11],\n",
       "        [14, 15]])]"
      ]
     },
     "execution_count": 215,
     "metadata": {},
     "output_type": "execute_result"
    }
   ],
   "source": [
    "# Split into equal parts by columns (axis=1 → split by columns)\n",
    "np.split(arr999, 2, axis=1) "
   ]
  },
  {
   "cell_type": "code",
   "execution_count": 221,
   "id": "8ee2225a-d4e8-4ddd-ad09-7a2e40e34346",
   "metadata": {},
   "outputs": [
    {
     "data": {
      "text/plain": [
       "[array([[0, 1, 2, 3]]),\n",
       " array([[4, 5, 6, 7]]),\n",
       " array([[ 8,  9, 10, 11]]),\n",
       " array([[12, 13, 14, 15]])]"
      ]
     },
     "execution_count": 221,
     "metadata": {},
     "output_type": "execute_result"
    }
   ],
   "source": [
    "# Vertical Split (split into 4 row blocks)\n",
    "np.vsplit(arr999, 4)"
   ]
  },
  {
   "cell_type": "code",
   "execution_count": 222,
   "id": "76623c05-acf4-4dfd-a317-97a57ed79d74",
   "metadata": {},
   "outputs": [
    {
     "data": {
      "text/plain": [
       "[array([[ 0],\n",
       "        [ 4],\n",
       "        [ 8],\n",
       "        [12]]),\n",
       " array([[ 1],\n",
       "        [ 5],\n",
       "        [ 9],\n",
       "        [13]]),\n",
       " array([[ 2],\n",
       "        [ 6],\n",
       "        [10],\n",
       "        [14]]),\n",
       " array([[ 3],\n",
       "        [ 7],\n",
       "        [11],\n",
       "        [15]])]"
      ]
     },
     "execution_count": 222,
     "metadata": {},
     "output_type": "execute_result"
    }
   ],
   "source": [
    "# Horizontal Split (split into 4 column blocks)\n",
    "np.hsplit(arr999, 4)"
   ]
  },
  {
   "cell_type": "markdown",
   "id": "83778655-77ac-4814-85e2-a6f7d04ec0f0",
   "metadata": {},
   "source": [
    "# #Fancing Array"
   ]
  },
  {
   "cell_type": "code",
   "execution_count": 4,
   "id": "d46e305c-15d7-4219-b4ef-8602f896f53f",
   "metadata": {},
   "outputs": [
    {
     "data": {
      "text/plain": [
       "array([[ 0,  1,  2,  3],\n",
       "       [ 4,  5,  6,  7],\n",
       "       [ 8,  9, 10, 11],\n",
       "       [12, 13, 14, 15],\n",
       "       [16, 17, 18, 19],\n",
       "       [20, 21, 22, 23]])"
      ]
     },
     "execution_count": 4,
     "metadata": {},
     "output_type": "execute_result"
    }
   ],
   "source": [
    "arr1010=np.arange(24).reshape(6,4)\n",
    "arr1010"
   ]
  },
  {
   "cell_type": "code",
   "execution_count": 6,
   "id": "28928514-cde2-42f5-b437-21b9c0ea3631",
   "metadata": {},
   "outputs": [
    {
     "data": {
      "text/plain": [
       "array([[ 0,  1,  2,  3],\n",
       "       [ 8,  9, 10, 11],\n",
       "       [16, 17, 18, 19]])"
      ]
     },
     "execution_count": 6,
     "metadata": {},
     "output_type": "execute_result"
    }
   ],
   "source": [
    "# selecting zero, two, four rows based on indexing \n",
    "arr1010[[0,2,4]]"
   ]
  },
  {
   "cell_type": "code",
   "execution_count": 7,
   "id": "d9fdbb21-bfbc-4fe4-bcce-d12903211781",
   "metadata": {},
   "outputs": [
    {
     "data": {
      "text/plain": [
       "array([[ 0,  1,  2,  3],\n",
       "       [ 8,  9, 10, 11],\n",
       "       [16, 17, 18, 19]])"
      ]
     },
     "execution_count": 7,
     "metadata": {},
     "output_type": "execute_result"
    }
   ],
   "source": [
    "# we can also used this to select alternate rows or columns\n",
    "arr1010[0::2]"
   ]
  },
  {
   "cell_type": "markdown",
   "id": "6dd9b862-182b-4858-9c92-942a4f33fda3",
   "metadata": {},
   "source": [
    "# #indexing with boolean Arrays"
   ]
  },
  {
   "cell_type": "code",
   "execution_count": 11,
   "id": "673f6a2a-f507-47f1-9a23-def1c1b30d6a",
   "metadata": {},
   "outputs": [
    {
     "data": {
      "text/plain": [
       "array([[79, 36, 54, 11],\n",
       "       [28, 23, 96, 58],\n",
       "       [65, 29, 76, 94],\n",
       "       [77, 95, 34, 95],\n",
       "       [72, 49, 40, 98],\n",
       "       [60, 47, 11,  8]], dtype=int32)"
      ]
     },
     "execution_count": 11,
     "metadata": {},
     "output_type": "execute_result"
    }
   ],
   "source": [
    "arr1111=np.random.randint(low=1,high=100,size=24).reshape(6,4)  #gives any random number between 1-100\n",
    "arr1111"
   ]
  },
  {
   "cell_type": "code",
   "execution_count": 12,
   "id": "c3c80c38-7156-4fa5-86cd-f514f3172b85",
   "metadata": {},
   "outputs": [
    {
     "data": {
      "text/plain": [
       "array([79, 54, 96, 58, 65, 76, 94, 77, 95, 95, 72, 98, 60], dtype=int32)"
      ]
     },
     "execution_count": 12,
     "metadata": {},
     "output_type": "execute_result"
    }
   ],
   "source": [
    "# check and display all elements which is greater than 50\n",
    "arr1111[arr1111>50]\n",
    "#arr1111[arr1111 > 50] → first creates a boolean mask (True/False) for elements > 50, \n",
    "#then re-indexes the array with this mask to return only the values satisfying the condition."
   ]
  },
  {
   "cell_type": "code",
   "execution_count": 13,
   "id": "abee4f35-1019-4fbf-a6c6-d8ff6d0af825",
   "metadata": {},
   "outputs": [
    {
     "data": {
      "text/plain": [
       "array([79, 65, 77, 95, 95], dtype=int32)"
      ]
     },
     "execution_count": 13,
     "metadata": {},
     "output_type": "execute_result"
    }
   ],
   "source": [
    "# display all the elements greater than 50 but it must be odd\n",
    "arr1111[(arr1111>50) & (arr1111%2!=0)]"
   ]
  },
  {
   "cell_type": "code",
   "execution_count": 17,
   "id": "86d675de-544f-4be5-98fa-dd894269f8c4",
   "metadata": {},
   "outputs": [],
   "source": [
    "#replace all the elements which is greater than 50 and it is odd with zeros\n",
    "arr1111[(arr1111>50) & (arr1111%2!=0)]=0"
   ]
  },
  {
   "cell_type": "code",
   "execution_count": 18,
   "id": "41ae93dd-5fb1-4f98-b3b9-555b8de5e08d",
   "metadata": {},
   "outputs": [
    {
     "data": {
      "text/plain": [
       "array([[ 0, 36, 54, 11],\n",
       "       [28, 23, 96, 58],\n",
       "       [ 0, 29, 76, 94],\n",
       "       [ 0,  0, 34,  0],\n",
       "       [72, 49, 40, 98],\n",
       "       [60, 47, 11,  8]], dtype=int32)"
      ]
     },
     "execution_count": 18,
     "metadata": {},
     "output_type": "execute_result"
    }
   ],
   "source": [
    "arr1111"
   ]
  },
  {
   "cell_type": "markdown",
   "id": "ddb2491d-54b7-4950-9018-f37dd9b0f8c1",
   "metadata": {},
   "source": [
    "# #plotting graphs using Numpy"
   ]
  },
  {
   "cell_type": "code",
   "execution_count": 20,
   "id": "26e6c93c-29d5-4121-af5d-c95d1ab77ffb",
   "metadata": {},
   "outputs": [],
   "source": [
    "import matplotlib.pyplot as plt\n",
    "%matplotlib inline \n",
    "# displays matplotlib plots inside the Jupyter notebook; if not written, the graph is still plotted but won’t be visible on the screen."
   ]
  },
  {
   "cell_type": "code",
   "execution_count": 36,
   "id": "92ec4107-58b3-495a-b284-3a1832e5d479",
   "metadata": {},
   "outputs": [
    {
     "data": {
      "text/plain": [
       "array([-40.        , -39.19191919, -38.38383838, -37.57575758,\n",
       "       -36.76767677, -35.95959596, -35.15151515, -34.34343434,\n",
       "       -33.53535354, -32.72727273, -31.91919192, -31.11111111,\n",
       "       -30.3030303 , -29.49494949, -28.68686869, -27.87878788,\n",
       "       -27.07070707, -26.26262626, -25.45454545, -24.64646465,\n",
       "       -23.83838384, -23.03030303, -22.22222222, -21.41414141,\n",
       "       -20.60606061, -19.7979798 , -18.98989899, -18.18181818,\n",
       "       -17.37373737, -16.56565657, -15.75757576, -14.94949495,\n",
       "       -14.14141414, -13.33333333, -12.52525253, -11.71717172,\n",
       "       -10.90909091, -10.1010101 ,  -9.29292929,  -8.48484848,\n",
       "        -7.67676768,  -6.86868687,  -6.06060606,  -5.25252525,\n",
       "        -4.44444444,  -3.63636364,  -2.82828283,  -2.02020202,\n",
       "        -1.21212121,  -0.4040404 ,   0.4040404 ,   1.21212121,\n",
       "         2.02020202,   2.82828283,   3.63636364,   4.44444444,\n",
       "         5.25252525,   6.06060606,   6.86868687,   7.67676768,\n",
       "         8.48484848,   9.29292929,  10.1010101 ,  10.90909091,\n",
       "        11.71717172,  12.52525253,  13.33333333,  14.14141414,\n",
       "        14.94949495,  15.75757576,  16.56565657,  17.37373737,\n",
       "        18.18181818,  18.98989899,  19.7979798 ,  20.60606061,\n",
       "        21.41414141,  22.22222222,  23.03030303,  23.83838384,\n",
       "        24.64646465,  25.45454545,  26.26262626,  27.07070707,\n",
       "        27.87878788,  28.68686869,  29.49494949,  30.3030303 ,\n",
       "        31.11111111,  31.91919192,  32.72727273,  33.53535354,\n",
       "        34.34343434,  35.15151515,  35.95959596,  36.76767677,\n",
       "        37.57575758,  38.38383838,  39.19191919,  40.        ])"
      ]
     },
     "execution_count": 36,
     "metadata": {},
     "output_type": "execute_result"
    }
   ],
   "source": [
    "x1=np.linspace(-40,40,100)  # 100 values from -40 to 40  stores in x1\n",
    "x1"
   ]
  },
  {
   "cell_type": "code",
   "execution_count": 37,
   "id": "aa226c2b-c5d8-44d9-a217-505a339607a7",
   "metadata": {},
   "outputs": [],
   "source": [
    "y1=np.sin(x1)"
   ]
  },
  {
   "cell_type": "code",
   "execution_count": 38,
   "id": "dd08e23a-191b-4c43-9be2-ae5cac2cc985",
   "metadata": {},
   "outputs": [
    {
     "data": {
      "text/plain": [
       "array([-0.74511316, -0.9969604 , -0.63246122,  0.12304167,  0.80247705,\n",
       "        0.98580059,  0.55967698, -0.21245326, -0.85323945, -0.96653119,\n",
       "       -0.48228862,  0.30011711,  0.89698277,  0.93931073,  0.40093277,\n",
       "       -0.38531209, -0.93334716, -0.90436313, -0.31627868,  0.46733734,\n",
       "        0.96203346,  0.86197589,  0.22902277, -0.54551809, -0.9828057 ,\n",
       "       -0.81249769, -0.13988282,  0.61921119,  0.995493  ,  0.75633557,\n",
       "        0.04959214, -0.68781042, -0.99999098, -0.69395153,  0.0411065 ,\n",
       "        0.75075145,  0.99626264,  0.62585878, -0.13146699, -0.8075165 ,\n",
       "       -0.98433866, -0.55261747,  0.22074597,  0.85763861,  0.96431712,\n",
       "        0.47483011, -0.30820902, -0.90070545, -0.93636273, -0.39313661,\n",
       "        0.39313661,  0.93636273,  0.90070545,  0.30820902, -0.47483011,\n",
       "       -0.96431712, -0.85763861, -0.22074597,  0.55261747,  0.98433866,\n",
       "        0.8075165 ,  0.13146699, -0.62585878, -0.99626264, -0.75075145,\n",
       "       -0.0411065 ,  0.69395153,  0.99999098,  0.68781042, -0.04959214,\n",
       "       -0.75633557, -0.995493  , -0.61921119,  0.13988282,  0.81249769,\n",
       "        0.9828057 ,  0.54551809, -0.22902277, -0.86197589, -0.96203346,\n",
       "       -0.46733734,  0.31627868,  0.90436313,  0.93334716,  0.38531209,\n",
       "       -0.40093277, -0.93931073, -0.89698277, -0.30011711,  0.48228862,\n",
       "        0.96653119,  0.85323945,  0.21245326, -0.55967698, -0.98580059,\n",
       "       -0.80247705, -0.12304167,  0.63246122,  0.9969604 ,  0.74511316])"
      ]
     },
     "execution_count": 38,
     "metadata": {},
     "output_type": "execute_result"
    }
   ],
   "source": [
    "y1"
   ]
  },
  {
   "cell_type": "code",
   "execution_count": 39,
   "id": "e5bf1d20-7dcb-4ce5-82aa-58cf2f1a53b9",
   "metadata": {},
   "outputs": [
    {
     "data": {
      "text/plain": [
       "[<matplotlib.lines.Line2D at 0x235c84e11c0>]"
      ]
     },
     "execution_count": 39,
     "metadata": {},
     "output_type": "execute_result"
    },
    {
     "data": {
      "image/png": "[encoded data removed]",
      "text/plain": [
       "<Figure size 640x480 with 1 Axes>"
      ]
     },
     "metadata": {},
     "output_type": "display_data"
    }
   ],
   "source": [
    "plt.plot(x1,y1)"
   ]
  },
  {
   "cell_type": "code",
   "execution_count": 40,
   "id": "ebd716d9-e6fa-4305-8c8f-e01cbe704865",
   "metadata": {},
   "outputs": [],
   "source": [
    "# displaying curve eqaution\n",
    "y2=x1*x1+2*x1+6"
   ]
  },
  {
   "cell_type": "code",
   "execution_count": 41,
   "id": "4bd2164c-216a-4e65-930d-a3fb863b9d3a",
   "metadata": {},
   "outputs": [
    {
     "data": {
      "text/plain": [
       "array([1526.        , 1463.62269156, 1402.55137231, 1342.78604224,\n",
       "       1284.32670136, 1227.17334966, 1171.32598714, 1116.78461381,\n",
       "       1063.54922967, 1011.61983471,  960.99642894,  911.67901235,\n",
       "        863.66758494,  816.96214672,  771.56269768,  727.46923783,\n",
       "        684.68176717,  643.20028569,  603.02479339,  564.15529028,\n",
       "        526.59177635,  490.33425161,  455.38271605,  421.73716968,\n",
       "        389.39761249,  358.36404449,  328.63646567,  300.21487603,\n",
       "        273.09927558,  247.28966432,  222.78604224,  199.58840935,\n",
       "        177.69676564,  157.11111111,  137.83144577,  119.85776962,\n",
       "        103.19008264,   87.82838486,   73.77267626,   61.02295684,\n",
       "         49.57922661,   39.44148556,   30.6097337 ,   23.08397102,\n",
       "         16.86419753,   11.95041322,    8.3426181 ,    6.04081216,\n",
       "          5.04499541,    5.35516784,    6.97132946,    9.89348026,\n",
       "         14.12162024,   19.65574941,   26.49586777,   34.64197531,\n",
       "         44.09407203,   54.85215794,   66.91623304,   80.28629732,\n",
       "         94.96235078,  110.94439343,  128.23242526,  146.82644628,\n",
       "        166.72645648,  187.93245587,  210.44444444,  234.2624222 ,\n",
       "        259.38638914,  285.81634527,  313.55229058,  342.59422508,\n",
       "        372.94214876,  404.59606163,  437.55596368,  471.82185491,\n",
       "        507.39373533,  544.27160494,  582.45546373,  621.9453117 ,\n",
       "        662.74114886,  704.84297521,  748.25079074,  792.96459545,\n",
       "        838.98438935,  886.31017243,  934.9419447 ,  984.87970615,\n",
       "       1036.12345679, 1088.67319661, 1142.52892562, 1197.69064381,\n",
       "       1254.15835119, 1311.93204775, 1371.0117335 , 1431.39740843,\n",
       "       1493.08907254, 1556.08672584, 1620.39036833, 1686.        ])"
      ]
     },
     "execution_count": 41,
     "metadata": {},
     "output_type": "execute_result"
    }
   ],
   "source": [
    "y2"
   ]
  },
  {
   "cell_type": "code",
   "execution_count": 42,
   "id": "67f93535-2da8-4496-b3af-66552276c722",
   "metadata": {},
   "outputs": [
    {
     "data": {
      "text/plain": [
       "[<matplotlib.lines.Line2D at 0x235c8537260>]"
      ]
     },
     "execution_count": 42,
     "metadata": {},
     "output_type": "execute_result"
    },
    {
     "data": {
      "image/png": "[encoded data removed]",
      "text/plain": [
       "<Figure size 640x480 with 1 Axes>"
      ]
     },
     "metadata": {},
     "output_type": "display_data"
    }
   ],
   "source": [
    "plt.plot(x1,y2)"
   ]
  },
  {
   "cell_type": "markdown",
   "id": "fda8428b-1673-4780-a93d-3cda9f66a1dc",
   "metadata": {},
   "source": [
    "# #Concept of BroadCasting"
   ]
  },
  {
   "attachments": {
    "0372a64f-0a0a-4fc2-aa6a-ac8cbac2e9f8.jpg": {
     "image/jpeg": "[encoded data removed]"
    }
   },
   "cell_type": "markdown",
   "id": "0685359a-df2f-4bd9-99ec-8c439122e7d8",
   "metadata": {},
   "source": [
    "The term broadcasting refers to the ability of NumPy to treat arrays of different shapes during arithmetic operations. Arithmetic operations on arrays are usually done on corresponding elements. If two arrays are of exactly the same shape, then these operations are smoothly performed.\n",
    "If the dimensions of two arrays are dissimilar, element-to-element operations are not possible. However, operations on arrays of non-similar shapes is still possible in NumPy, because of the broadcasting capability. The smaller array is broadcast to the size of the larger array so that they have compatible shapes.\n",
    "\n",
    "![broadcasting.jpg](attachment:0372a64f-0a0a-4fc2-aa6a-ac8cbac2e9f8.jpg)"
   ]
  },
  {
   "cell_type": "markdown",
   "id": "531a0b1d-d177-4450-8d5f-bd85e92aa8cc",
   "metadata": {},
   "source": [
    "# Rules of BroadCasting"
   ]
  },
  {
   "cell_type": "code",
   "execution_count": 50,
   "id": "f92ef519-1d26-41bc-b0f4-c480d77ac9b9",
   "metadata": {},
   "outputs": [],
   "source": [
    "# If x=m and y=n, operation will take place\n",
    "ar1=np.arange(8).reshape(2,4)\n",
    "ar2=np.arange(8,16).reshape(2,4)"
   ]
  },
  {
   "cell_type": "code",
   "execution_count": 51,
   "id": "192a2f30-1549-41f9-80c1-ba08ec1a5494",
   "metadata": {},
   "outputs": [
    {
     "data": {
      "text/plain": [
       "(array([[0, 1, 2, 3],\n",
       "        [4, 5, 6, 7]]),\n",
       " array([[ 8,  9, 10, 11],\n",
       "        [12, 13, 14, 15]]))"
      ]
     },
     "execution_count": 51,
     "metadata": {},
     "output_type": "execute_result"
    }
   ],
   "source": [
    "ar1,ar2"
   ]
  },
  {
   "cell_type": "code",
   "execution_count": 52,
   "id": "5b9fb6f9-c300-4753-bf00-9d8e582c58e3",
   "metadata": {},
   "outputs": [
    {
     "data": {
      "text/plain": [
       "array([[ 8, 10, 12, 14],\n",
       "       [16, 18, 20, 22]])"
      ]
     },
     "execution_count": 52,
     "metadata": {},
     "output_type": "execute_result"
    }
   ],
   "source": [
    "ar1+ar2"
   ]
  },
  {
   "cell_type": "code",
   "execution_count": 53,
   "id": "cf0e8683-3dd9-4505-b402-71bbb3664b28",
   "metadata": {},
   "outputs": [],
   "source": [
    "# If x=1 and y=n, operation will take place (same dimension)\n",
    "ar3=np.arange(3).reshape(1,3)\n",
    "ar4=np.arange(12).reshape(4,3)"
   ]
  },
  {
   "cell_type": "code",
   "execution_count": 54,
   "id": "603e1949-35d9-4074-b7c2-646c696988b5",
   "metadata": {},
   "outputs": [
    {
     "data": {
      "text/plain": [
       "(array([[0, 1, 2]]),\n",
       " array([[ 0,  1,  2],\n",
       "        [ 3,  4,  5],\n",
       "        [ 6,  7,  8],\n",
       "        [ 9, 10, 11]]))"
      ]
     },
     "execution_count": 54,
     "metadata": {},
     "output_type": "execute_result"
    }
   ],
   "source": [
    "ar3,ar4"
   ]
  },
  {
   "cell_type": "code",
   "execution_count": 55,
   "id": "83edd83b-20e4-4c18-a0d7-af7e50304a90",
   "metadata": {},
   "outputs": [
    {
     "data": {
      "text/plain": [
       "array([[ 0,  2,  4],\n",
       "       [ 3,  5,  7],\n",
       "       [ 6,  8, 10],\n",
       "       [ 9, 11, 13]])"
      ]
     },
     "execution_count": 55,
     "metadata": {},
     "output_type": "execute_result"
    }
   ],
   "source": [
    "ar3+ar4"
   ]
  },
  {
   "cell_type": "code",
   "execution_count": 56,
   "id": "57287430-e3de-4dc7-9890-e23c2843341d",
   "metadata": {},
   "outputs": [],
   "source": [
    "# If y=1 and y=m, then also operation will take place,even if\n",
    "# they are not of same dimension\n",
    "ar5=np.arange(4).reshape(4,1)\n",
    "ar6=np.arange(12).reshape(4,3)"
   ]
  },
  {
   "cell_type": "code",
   "execution_count": 57,
   "id": "000bcf41-61ff-41a4-a8f0-54b5de36e5f6",
   "metadata": {},
   "outputs": [
    {
     "data": {
      "text/plain": [
       "(array([[0],\n",
       "        [1],\n",
       "        [2],\n",
       "        [3]]),\n",
       " array([[ 0,  1,  2],\n",
       "        [ 3,  4,  5],\n",
       "        [ 6,  7,  8],\n",
       "        [ 9, 10, 11]]))"
      ]
     },
     "execution_count": 57,
     "metadata": {},
     "output_type": "execute_result"
    }
   ],
   "source": [
    "ar5,ar6"
   ]
  },
  {
   "cell_type": "code",
   "execution_count": 58,
   "id": "712fb1d1-9b5a-43a3-80eb-1605763c3112",
   "metadata": {},
   "outputs": [
    {
     "data": {
      "text/plain": [
       "array([[ 0,  1,  2],\n",
       "       [ 4,  5,  6],\n",
       "       [ 8,  9, 10],\n",
       "       [12, 13, 14]])"
      ]
     },
     "execution_count": 58,
     "metadata": {},
     "output_type": "execute_result"
    }
   ],
   "source": [
    "ar5+ar6"
   ]
  },
  {
   "cell_type": "code",
   "execution_count": 69,
   "id": "f674bfbc-29d7-4489-88db-9df17b7cfed0",
   "metadata": {},
   "outputs": [],
   "source": [
    "# If y=1 and y=!n, then operation will not take place\n",
    "ar7=np.arange(3).reshape(1,3)\n",
    "ar8=np.arange(16).reshape(4,4)"
   ]
  },
  {
   "cell_type": "code",
   "execution_count": 70,
   "id": "972eaabc-9e88-45ec-b079-3d3dc569523c",
   "metadata": {},
   "outputs": [
    {
     "data": {
      "text/plain": [
       "(array([[0, 1, 2]]),\n",
       " array([[ 0,  1,  2,  3],\n",
       "        [ 4,  5,  6,  7],\n",
       "        [ 8,  9, 10, 11],\n",
       "        [12, 13, 14, 15]]))"
      ]
     },
     "execution_count": 70,
     "metadata": {},
     "output_type": "execute_result"
    }
   ],
   "source": [
    "ar7,ar8"
   ]
  },
  {
   "cell_type": "code",
   "execution_count": 71,
   "id": "91188a6d-cdee-4851-a998-15808047647d",
   "metadata": {},
   "outputs": [
    {
     "ename": "ValueError",
     "evalue": "operands could not be broadcast together with shapes (1,3) (4,4) ",
     "output_type": "error",
     "traceback": [
      "\u001b[31m---------------------------------------------------------------------------\u001b[39m",
      "\u001b[31mValueError\u001b[39m                                Traceback (most recent call last)",
      "\u001b[36mCell\u001b[39m\u001b[36m \u001b[39m\u001b[32mIn[71]\u001b[39m\u001b[32m, line 1\u001b[39m\n\u001b[32m----> \u001b[39m\u001b[32m1\u001b[39m \u001b[43mar7\u001b[49m\u001b[43m+\u001b[49m\u001b[43mar8\u001b[49m   \u001b[38;5;66;03m#revise concept just for understanding purpose even though it shows error\u001b[39;00m\n",
      "\u001b[31mValueError\u001b[39m: operands could not be broadcast together with shapes (1,3) (4,4) "
     ]
    }
   ],
   "source": [
    "ar7+ar8   #revise concept just for understanding purpose even though it shows error"
   ]
  },
  {
   "cell_type": "code",
   "execution_count": 72,
   "id": "ea134f94-c3fc-4e95-89a5-b989e3c9b437",
   "metadata": {},
   "outputs": [
    {
     "data": {
      "text/plain": [
       "(array([[0, 1, 2]]),\n",
       " array([[0],\n",
       "        [1],\n",
       "        [2]]))"
      ]
     },
     "execution_count": 72,
     "metadata": {},
     "output_type": "execute_result"
    }
   ],
   "source": [
    "# If x=1 and n=1, then y==m , then operation will take place\n",
    "ar9=np.arange(3).reshape(1,3)\n",
    "ar10=np.arange(3).reshape(3,1)\n",
    "ar9,ar10"
   ]
  },
  {
   "cell_type": "code",
   "execution_count": 73,
   "id": "da6bbaae-3013-4523-af2f-b5503e919e29",
   "metadata": {},
   "outputs": [
    {
     "data": {
      "text/plain": [
       "array([[0, 1, 2],\n",
       "       [1, 2, 3],\n",
       "       [2, 3, 4]])"
      ]
     },
     "execution_count": 73,
     "metadata": {},
     "output_type": "execute_result"
    }
   ],
   "source": [
    "ar9+ar10"
   ]
  },
  {
   "cell_type": "code",
   "execution_count": 74,
   "id": "9a886b6c-7692-4fec-8368-ca4bd32735e0",
   "metadata": {},
   "outputs": [
    {
     "data": {
      "text/plain": [
       "(array([[0]]),\n",
       " array([[0, 1],\n",
       "        [2, 3]]))"
      ]
     },
     "execution_count": 74,
     "metadata": {},
     "output_type": "execute_result"
    }
   ],
   "source": [
    "# If x=1 and y=1, then operation will take place no matter what(means if one arrays has (1,1) in same it will aslo perform)\n",
    "ar11=np.arange(1).reshape(1,1)\n",
    "ar12=np.arange(4).reshape(2,2)\n",
    "ar11,ar12"
   ]
  },
  {
   "cell_type": "code",
   "execution_count": 75,
   "id": "06c26bb3-8bf1-4310-aad4-8a42bae7248b",
   "metadata": {},
   "outputs": [
    {
     "data": {
      "text/plain": [
       "array([[0, 1],\n",
       "       [2, 3]])"
      ]
     },
     "execution_count": 75,
     "metadata": {},
     "output_type": "execute_result"
    }
   ],
   "source": [
    "ar11+ar12"
   ]
  },
  {
   "cell_type": "code",
   "execution_count": 77,
   "id": "dbea8e74-373e-469c-87cc-f60237676ab1",
   "metadata": {},
   "outputs": [
    {
     "data": {
      "text/plain": [
       "(array([0, 1, 2, 3]),\n",
       " array([[0, 1, 2, 3],\n",
       "        [4, 5, 6, 7]]))"
      ]
     },
     "execution_count": 77,
     "metadata": {},
     "output_type": "execute_result"
    }
   ],
   "source": [
    "# If they are of different dimension (means if one array has only one value and other has two and if one value from x match to y then perform)\n",
    "ar13=np.arange(4)\n",
    "ar14=np.arange(8).reshape(2,4)\n",
    "ar13,ar14"
   ]
  },
  {
   "cell_type": "code",
   "execution_count": 78,
   "id": "e1c3366e-7797-4bd1-bbac-1ec164c7dea7",
   "metadata": {},
   "outputs": [
    {
     "data": {
      "text/plain": [
       "array([[ 0,  2,  4,  6],\n",
       "       [ 4,  6,  8, 10]])"
      ]
     },
     "execution_count": 78,
     "metadata": {},
     "output_type": "execute_result"
    }
   ],
   "source": [
    "ar13+ar14"
   ]
  },
  {
   "cell_type": "markdown",
   "id": "16bd9db3-c755-4bda-acd5-1435daf0ea53",
   "metadata": {},
   "source": [
    "# Some important numpy functions"
   ]
  },
  {
   "cell_type": "markdown",
   "id": "5598e2e0-c99f-446e-90b4-36614e28057a",
   "metadata": {},
   "source": [
    "# *getting random value between two number"
   ]
  },
  {
   "cell_type": "code",
   "execution_count": 87,
   "id": "2378a9c3-c212-468f-90ea-fb07c029b4d6",
   "metadata": {},
   "outputs": [
    {
     "data": {
      "text/plain": [
       "array([ 1.41976923,  8.89424532,  4.4200498 ,  5.47130865,  3.23252478,\n",
       "       14.21592942,  3.07308646,  2.30551093, 12.25237226,  3.13036138])"
      ]
     },
     "execution_count": 87,
     "metadata": {},
     "output_type": "execute_result"
    }
   ],
   "source": [
    "# getting floating value in range \n",
    "r1=np.random.uniform(1,15,10)  # (first value, last value, how much number you want)\n",
    "r1"
   ]
  },
  {
   "cell_type": "code",
   "execution_count": 88,
   "id": "a9ec9eda-b6e6-49f5-865b-7a8718e0d7eb",
   "metadata": {},
   "outputs": [
    {
     "data": {
      "text/plain": [
       "array([[ 1.41976923,  8.89424532],\n",
       "       [ 4.4200498 ,  5.47130865],\n",
       "       [ 3.23252478, 14.21592942],\n",
       "       [ 3.07308646,  2.30551093],\n",
       "       [12.25237226,  3.13036138]])"
      ]
     },
     "execution_count": 88,
     "metadata": {},
     "output_type": "execute_result"
    }
   ],
   "source": [
    "r1.reshape(5,2)"
   ]
  },
  {
   "cell_type": "code",
   "execution_count": 89,
   "id": "53a7b6f8-1a8a-46f4-adbe-2b8364c2e47b",
   "metadata": {},
   "outputs": [
    {
     "data": {
      "text/plain": [
       "array([ 8, 11, 10,  6,  9,  4,  3,  9], dtype=int32)"
      ]
     },
     "execution_count": 89,
     "metadata": {},
     "output_type": "execute_result"
    }
   ],
   "source": [
    "# getting Integer value in range \n",
    "r2=np.random.randint(2,12,8)\n",
    "r2"
   ]
  },
  {
   "cell_type": "code",
   "execution_count": 90,
   "id": "1e5614ef-ef23-4dd7-9476-c0535576f825",
   "metadata": {},
   "outputs": [
    {
     "data": {
      "text/plain": [
       "array([[ 8, 11],\n",
       "       [10,  6],\n",
       "       [ 9,  4],\n",
       "       [ 3,  9]], dtype=int32)"
      ]
     },
     "execution_count": 90,
     "metadata": {},
     "output_type": "execute_result"
    }
   ],
   "source": [
    "r2.reshape(4,2)"
   ]
  },
  {
   "cell_type": "code",
   "execution_count": 92,
   "id": "4f53bd73-4840-4e84-806f-60d586ba007b",
   "metadata": {},
   "outputs": [
    {
     "data": {
      "text/plain": [
       "array([12,  3,  9,  5,  2, 17,  1], dtype=int32)"
      ]
     },
     "execution_count": 92,
     "metadata": {},
     "output_type": "execute_result"
    }
   ],
   "source": [
    "# sort the given numbers\n",
    "r3=np.random.randint(1,20,7)\n",
    "r3"
   ]
  },
  {
   "cell_type": "code",
   "execution_count": 95,
   "id": "ec875cf3-dafe-4449-9d30-9c29b150785c",
   "metadata": {},
   "outputs": [
    {
     "data": {
      "text/plain": [
       "array([ 1,  2,  3,  5,  9, 12, 17], dtype=int32)"
      ]
     },
     "execution_count": 95,
     "metadata": {},
     "output_type": "execute_result"
    }
   ],
   "source": [
    "np.sort(r3)"
   ]
  },
  {
   "cell_type": "code",
   "execution_count": 98,
   "id": "8dc6e630-56af-490d-a6bc-13c04e8fef7b",
   "metadata": {},
   "outputs": [
    {
     "name": "stdout",
     "output_type": "stream",
     "text": [
      "[43 38 38 23 31 35 22 31 45 21]\n"
     ]
    }
   ],
   "source": [
    "# check how much percentile of value is present in the array\n",
    "r4=np.random.randint(1,50,10)\n",
    "print(r4)"
   ]
  },
  {
   "cell_type": "code",
   "execution_count": 106,
   "id": "63dd85d9-2dec-4cb8-b9d8-c448268a3a48",
   "metadata": {},
   "outputs": [
    {
     "name": "stdout",
     "output_type": "stream",
     "text": [
      "25.0\n"
     ]
    }
   ],
   "source": [
    "print(np.percentile(r4, 25)) # 25.0 → the 25th percentile (Q1), meaning 25% of the values are ≤ 25.0."
   ]
  },
  {
   "cell_type": "code",
   "execution_count": 107,
   "id": "06e1d88d-70e4-4caf-9077-1f6e2702b2f4",
   "metadata": {},
   "outputs": [
    {
     "name": "stdout",
     "output_type": "stream",
     "text": [
      "33.0\n"
     ]
    }
   ],
   "source": [
    "print(np.percentile(r4, 50)) # 33.0 → the 50th percentile (median), meaning half the values are ≤ 33.0."
   ]
  },
  {
   "cell_type": "code",
   "execution_count": 108,
   "id": "310fac09-716e-4042-973c-16b70b2368ab",
   "metadata": {},
   "outputs": [
    {
     "name": "stdout",
     "output_type": "stream",
     "text": [
      "44.82\n"
     ]
    }
   ],
   "source": [
    "print(np.percentile(r4, 99)) # 44.82 → the 99th percentile, meaning 99% of the values are ≤ ~44.82."
   ]
  }
 ],
 "metadata": {
  "kernelspec": {
   "display_name": "Python 3 (ipykernel)",
   "language": "python",
   "name": "py312env"
  },
  "language_info": {
   "codemirror_mode": {
    "name": "ipython",
    "version": 3
   },
   "file_extension": ".py",
   "mimetype": "text/x-python",
   "name": "python",
   "nbconvert_exporter": "python",
   "pygments_lexer": "ipython3",
   "version": "3.12.6"
  }
 },
 "nbformat": 4,
 "nbformat_minor": 5
}
